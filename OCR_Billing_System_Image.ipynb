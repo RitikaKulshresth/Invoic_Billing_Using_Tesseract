{
 "cells": [
  {
   "cell_type": "code",
   "execution_count": 2,
   "id": "83f34715-b4f9-420e-9411-def5b160925a",
   "metadata": {},
   "outputs": [
    {
     "name": "stdout",
     "output_type": "stream",
     "text": [
      "Note: you may need to restart the kernel to use updated packages.\n",
      "Requirement already satisfied: pytesseract in c:\\users\\rahul srivastava\\desktop\\interview\\projects\\invoice_processing_system\\billing_ocr_env\\lib\\site-packages (0.3.13)\n",
      "Requirement already satisfied: opencv-python in c:\\users\\rahul srivastava\\desktop\\interview\\projects\\invoice_processing_system\\billing_ocr_env\\lib\\site-packages (4.10.0.84)\n",
      "Requirement already satisfied: pillow in c:\\users\\rahul srivastava\\desktop\\interview\\projects\\invoice_processing_system\\billing_ocr_env\\lib\\site-packages (10.4.0)\n",
      "Requirement already satisfied: packaging>=21.3 in c:\\users\\rahul srivastava\\desktop\\interview\\projects\\invoice_processing_system\\billing_ocr_env\\lib\\site-packages (from pytesseract) (24.1)\n",
      "Requirement already satisfied: numpy>=1.21.2 in c:\\users\\rahul srivastava\\desktop\\interview\\projects\\invoice_processing_system\\billing_ocr_env\\lib\\site-packages (from opencv-python) (2.1.0)\n"
     ]
    },
    {
     "name": "stderr",
     "output_type": "stream",
     "text": [
      "\n",
      "[notice] A new release of pip available: 22.3.1 -> 24.2\n",
      "[notice] To update, run: python.exe -m pip install --upgrade pip\n"
     ]
    }
   ],
   "source": [
    "pip install pytesseract opencv-python pillow"
   ]
  },
  {
   "cell_type": "code",
   "execution_count": 2,
   "id": "50ada012-743a-4802-8f02-8219d77bfd5e",
   "metadata": {},
   "outputs": [],
   "source": [
    "import cv2\n",
    "from PIL import Image\n",
    "import pytesseract\n",
    "import re"
   ]
  },
  {
   "cell_type": "code",
   "execution_count": 4,
   "id": "c3f1bc17-0430-4910-b251-46e425e27f42",
   "metadata": {},
   "outputs": [],
   "source": [
    "#question one\n",
    "#lets read an image\n",
    "image=cv2.imread('bill3.png',0)"
   ]
  },
  {
   "cell_type": "code",
   "execution_count": 4,
   "id": "193a77ec-7e12-4b65-9b40-413d1f9ccad7",
   "metadata": {},
   "outputs": [],
   "source": [
    "pytesseract.pytesseract.tesseract_cmd = r'C:\\Program Files\\Tesseract-OCR\\tesseract.exe'"
   ]
  },
  {
   "cell_type": "code",
   "execution_count": 12,
   "id": "f939a244-dada-4e2b-8dfa-3cd5e59de4ba",
   "metadata": {},
   "outputs": [],
   "source": [
    "# gray = cv2.cvtColor(image, cv2.COLOR_BGR2GRAY)\n",
    "# _, binary_img = cv2.threshold(gray, 150, 255, cv2.THRESH_BINARY + cv2.THRESH_OTSU)"
   ]
  },
  {
   "cell_type": "code",
   "execution_count": 13,
   "id": "f979779e",
   "metadata": {},
   "outputs": [
    {
     "name": "stdout",
     "output_type": "stream",
     "text": [
      "ying thai kitchen\n",
      "2220 queen anne ave n\n",
      "seattle wa 98109\n",
      "« (206) 285-8424 fax. (206) 285-8427\n",
      "‘uw .yingthaikitchen.com\n",
      "welcome to ying thai kitchen restaurant.\n",
      "\n",
      "order#:17 table 2\n",
      "date: 7/4/2013 7:28 pm\n",
      "\n",
      "server: jack (1.4)\n",
      "44 ginger lover $9.50\n",
      "[pork] [24#]\n",
      "\n",
      "brown rice $2.00\n",
      "total 2 iten(s) $11.50\n",
      "sales tax $1.09\n",
      "grand total $12.59\n",
      "tip guide\n",
      "\n",
      "tek=$1.89, 18%=$2.27, 20%=82.52\n",
      "thank you very much,\n",
      "cone back again\n",
      "\n"
     ]
    }
   ],
   "source": [
    "#convert it into text\n",
    "text=(pytesseract.image_to_string(image)).lower()\n",
    "print(text)"
   ]
  },
  {
   "cell_type": "code",
   "execution_count": 14,
   "id": "7bfb6fe8",
   "metadata": {},
   "outputs": [],
   "source": [
    "# Parse the extracted text to find key fields\n",
    "restaurant_name = re.search(r'\\bYing Thai Kitchen\\b', extracted_text)\n",
    "address = re.search(r'2220 Queen Anne Ave N\\nSeattle WA 98109', extracted_text)\n",
    "phone_number = re.search(r'\\(\\d{3}\\) \\d{3}-\\d{4}', extracted_text)\n",
    "date = re.search(r'Date:\\s*(\\d{1,2}/\\d{1,2}/\\d{4})', extracted_text)\n",
    "order_details = re.findall(r'(\\d{2,}\\s\\w+.*?\\$\\d+\\.\\d{2})', extracted_text)"
   ]
  },
  {
   "cell_type": "code",
   "execution_count": 16,
   "id": "aa77ac18",
   "metadata": {},
   "outputs": [
    {
     "name": "stdout",
     "output_type": "stream",
     "text": [
      "\n",
      "Parsed Information:\n",
      "Restaurant Name: Ying Thai Kitchen\n",
      "Address: Not Found\n",
      "Phone Number: (206) 285-8424\n",
      "Date: 7/4/2013\n",
      "Order Details: ['44 Ginger Lover $9.50', '00\\nTotal 2 itea(s) $11.50', '08\\nGrand Total $12.59']\n"
     ]
    }
   ],
   "source": [
    "# Print parsed results\n",
    "print(\"\\nParsed Information:\")\n",
    "print(f\"Restaurant Name: {restaurant_name.group(0) if restaurant_name else 'Not Found'}\")\n",
    "print(f\"Address: {address.group(0) if address else 'Not Found'}\")\n",
    "print(f\"Phone Number: {phone_number.group(0) if phone_number else 'Not Found'}\")\n",
    "print(f\"Date: {date.group(1) if date else 'Not Found'}\")\n",
    "print(f\"Order Details: {order_details if order_details else 'Not Found'}\")"
   ]
  },
  {
   "cell_type": "code",
   "execution_count": 17,
   "id": "6a6af260",
   "metadata": {},
   "outputs": [
    {
     "name": "stdout",
     "output_type": "stream",
     "text": [
      "Total: 12.59\n",
      "Sales Tax: 1.08\n",
      "Grand Total: 12.59\n"
     ]
    }
   ],
   "source": [
    "# Extracting Total and Tax\n",
    "total = re.search(r'Total:?\\s*\\$?(\\d+\\.\\d{2})', extracted_text)\n",
    "sales_tax = re.search(r'Sales Tax:?\\s*\\$?(\\d+\\.\\d{2})', extracted_text)\n",
    "grand_total = re.search(r'Grand Total:?\\s*\\$?(\\d+\\.\\d{2})', extracted_text)\n",
    "\n",
    "print(f\"Total: {total.group(1) if total else 'Not Found'}\")\n",
    "print(f\"Sales Tax: {sales_tax.group(1) if sales_tax else 'Not Found'}\")\n",
    "print(f\"Grand Total: {grand_total.group(1) if grand_total else 'Not Found'}\")"
   ]
  },
  {
   "cell_type": "code",
   "execution_count": 20,
   "id": "a5c7b32a",
   "metadata": {},
   "outputs": [
    {
     "name": "stdout",
     "output_type": "stream",
     "text": [
      "Collecting pandas\n",
      "  Using cached pandas-2.2.2-cp311-cp311-win_amd64.whl (11.6 MB)\n",
      "Requirement already satisfied: numpy>=1.23.2 in c:\\users\\rahul srivastava\\desktop\\interview\\projects\\invoice_processing_system\\billing_ocr_env\\lib\\site-packages (from pandas) (2.1.0)\n",
      "Requirement already satisfied: python-dateutil>=2.8.2 in c:\\users\\rahul srivastava\\desktop\\interview\\projects\\invoice_processing_system\\billing_ocr_env\\lib\\site-packages (from pandas) (2.9.0.post0)\n",
      "Collecting pytz>=2020.1\n",
      "  Using cached pytz-2024.1-py2.py3-none-any.whl (505 kB)\n",
      "Collecting tzdata>=2022.7\n",
      "  Using cached tzdata-2024.1-py2.py3-none-any.whl (345 kB)\n",
      "Requirement already satisfied: six>=1.5 in c:\\users\\rahul srivastava\\desktop\\interview\\projects\\invoice_processing_system\\billing_ocr_env\\lib\\site-packages (from python-dateutil>=2.8.2->pandas) (1.16.0)\n",
      "Installing collected packages: pytz, tzdata, pandas\n",
      "Successfully installed pandas-2.2.2 pytz-2024.1 tzdata-2024.1\n",
      "Note: you may need to restart the kernel to use updated packages.\n"
     ]
    },
    {
     "name": "stderr",
     "output_type": "stream",
     "text": [
      "\n",
      "[notice] A new release of pip available: 22.3.1 -> 24.2\n",
      "[notice] To update, run: python.exe -m pip install --upgrade pip\n"
     ]
    }
   ],
   "source": [
    "pip install pandas"
   ]
  },
  {
   "cell_type": "code",
   "execution_count": 22,
   "id": "30d2d64f",
   "metadata": {},
   "outputs": [
    {
     "ename": "NameError",
     "evalue": "name 'invoice_number' is not defined",
     "output_type": "error",
     "traceback": [
      "\u001b[1;31m---------------------------------------------------------------------------\u001b[0m",
      "\u001b[1;31mNameError\u001b[0m                                 Traceback (most recent call last)",
      "Cell \u001b[1;32mIn[22], line 5\u001b[0m\n\u001b[0;32m      1\u001b[0m \u001b[38;5;28;01mimport\u001b[39;00m \u001b[38;5;21;01mpandas\u001b[39;00m \u001b[38;5;28;01mas\u001b[39;00m \u001b[38;5;21;01mpd\u001b[39;00m\n\u001b[0;32m      3\u001b[0m \u001b[38;5;66;03m# Example of saving to a CSV file\u001b[39;00m\n\u001b[0;32m      4\u001b[0m data \u001b[38;5;241m=\u001b[39m {\n\u001b[1;32m----> 5\u001b[0m     \u001b[38;5;124m'\u001b[39m\u001b[38;5;124mInvoice Number\u001b[39m\u001b[38;5;124m'\u001b[39m: [invoice_number\u001b[38;5;241m.\u001b[39mgroup(\u001b[38;5;241m1\u001b[39m) \u001b[38;5;28;01mif\u001b[39;00m \u001b[43minvoice_number\u001b[49m \u001b[38;5;28;01melse\u001b[39;00m \u001b[38;5;124m'\u001b[39m\u001b[38;5;124m'\u001b[39m],\n\u001b[0;32m      6\u001b[0m     \u001b[38;5;124m'\u001b[39m\u001b[38;5;124mDate\u001b[39m\u001b[38;5;124m'\u001b[39m: [date\u001b[38;5;241m.\u001b[39mgroup(\u001b[38;5;241m1\u001b[39m) \u001b[38;5;28;01mif\u001b[39;00m date \u001b[38;5;28;01melse\u001b[39;00m \u001b[38;5;124m'\u001b[39m\u001b[38;5;124m'\u001b[39m],\n\u001b[0;32m      7\u001b[0m     \u001b[38;5;124m'\u001b[39m\u001b[38;5;124mTotal Amount\u001b[39m\u001b[38;5;124m'\u001b[39m: [total_amount\u001b[38;5;241m.\u001b[39mgroup(\u001b[38;5;241m1\u001b[39m) \u001b[38;5;28;01mif\u001b[39;00m total_amount \u001b[38;5;28;01melse\u001b[39;00m \u001b[38;5;124m'\u001b[39m\u001b[38;5;124m'\u001b[39m]\n\u001b[0;32m      8\u001b[0m }\n\u001b[0;32m     10\u001b[0m df \u001b[38;5;241m=\u001b[39m pd\u001b[38;5;241m.\u001b[39mDataFrame(data)\n\u001b[0;32m     11\u001b[0m df\u001b[38;5;241m.\u001b[39mto_csv(\u001b[38;5;124m'\u001b[39m\u001b[38;5;124mextracted_invoice_data.csv\u001b[39m\u001b[38;5;124m'\u001b[39m, index\u001b[38;5;241m=\u001b[39m\u001b[38;5;28;01mFalse\u001b[39;00m)\n",
      "\u001b[1;31mNameError\u001b[0m: name 'invoice_number' is not defined"
     ]
    }
   ],
   "source": [
    "import pandas as pd\n",
    "\n",
    "# Example of saving to a CSV file\n",
    "data = {\n",
    "    'Invoice Number': [invoice_number.group(1) if invoice_number else ''],\n",
    "    'Date': [date.group(1) if date else ''],\n",
    "    'Total Amount': [total_amount.group(1) if total_amount else '']\n",
    "}\n",
    "\n",
    "df = pd.DataFrame(data)\n",
    "df.to_csv('extracted_invoice_data.csv', index=False)"
   ]
  },
  {
   "cell_type": "code",
   "execution_count": 3,
   "id": "2f76b095",
   "metadata": {},
   "outputs": [],
   "source": [
    "#question one\n",
    "#lets read an image\n",
    "image=cv2.imread('sales.png',0)"
   ]
  },
  {
   "cell_type": "code",
   "execution_count": 7,
   "id": "9e074a46-dca2-4ded-b4cb-1d5c538d36de",
   "metadata": {},
   "outputs": [
    {
     "name": "stdout",
     "output_type": "stream",
     "text": [
      "sales invoice\n",
      "\n",
      "issued: 05/25/2030 invoice #1234\n",
      "\n",
      "rosemary james nimble signals\n",
      "\n",
      "123 any helloareallygreatsite.com\n",
      "any city, st 12345, reallyreatsite.com\n",
      "home internet pian a $1500 $1800\n",
      "instatimen 1 $150 $150\n",
      "wi accessories ethernet product ' $100 $200\n",
      "etherne $75 $75\n",
      "network extend $100 $100\n",
      "wiite the service or item description here o $000 $000\n",
      "he service or tem desertion here ° $000 $000\n",
      "\n",
      "thank you for your business! for any biling nimble signals\n",
      "\n"
     ]
    }
   ],
   "source": [
    "#convert it into text\n",
    "invoice_text=(pytesseract.image_to_string(image)).lower()\n",
    "print(invoice_text)"
   ]
  },
  {
   "cell_type": "code",
   "execution_count": 8,
   "id": "92b4dbd8-623c-4c77-a6fb-4977738285d0",
   "metadata": {},
   "outputs": [
    {
     "name": "stdout",
     "output_type": "stream",
     "text": [
      "Extracted Invoice Details:\n",
      "Date: 05/25/2030\n",
      "Invoice Number: 1234\n",
      "Item 1: \n",
      "Item 2: \n",
      "Item 3: \n",
      "Item 4: \n",
      "Item 5: \n",
      "Item 6: \n",
      "Item 7: \n",
      "Item 8: \n",
      "Item 9: \n",
      "Item 10: \n",
      "Item 11: \n",
      "Item 12: \n",
      "Item 13: \n",
      "Item 14: \n",
      "Invalid amount format\n"
     ]
    }
   ],
   "source": [
    "import re\n",
    "\n",
    "def extract_invoice_details(text):\n",
    "    # Extract fields using regular expressions or simple string operations\n",
    "    details = {}\n",
    "\n",
    "    # Extracting fields using regex or string operations\n",
    "    issued_match = re.search(r'issued:\\s*(\\d{2}/\\d{2}/\\d{4})', text)\n",
    "    if issued_match:\n",
    "        details['Date'] = issued_match.group(1)\n",
    "    \n",
    "    invoice_number_match = re.search(r'invoice #(\\d+)', text)\n",
    "    if invoice_number_match:\n",
    "        details['Invoice Number'] = invoice_number_match.group(1)\n",
    "    \n",
    "    bill_to_match = re.search(r'rosemary james.*?(\\d{1,5}\\s[\\w\\s]+[\\d\\w]+)\\n([\\w\\s,]+)', text, re.DOTALL)\n",
    "    if bill_to_match:\n",
    "        details['Bill To'] = f\"{bill_to_match.group(1).strip()} {bill_to_match.group(2).strip()}\"\n",
    "    \n",
    "    # Extract total amounts (this might need adjustment based on exact format)\n",
    "    amounts = re.findall(r'\\$\\d+(\\.\\d{2})?', text)\n",
    "    if amounts:\n",
    "        details['Amounts'] = amounts\n",
    "    \n",
    "    return details\n",
    "\n",
    "def validate_date(date_str):\n",
    "    # Example: Validate date format MM/DD/YYYY\n",
    "    pattern = r'\\d{2}/\\d{2}/\\d{4}'\n",
    "    return re.match(pattern, date_str) is not None\n",
    "\n",
    "def validate_amount(amount_str):\n",
    "    # Example: Validate amount format $50.10 or 50.10\n",
    "    pattern = r'^\\$?\\d+(\\.\\d{2})?$'\n",
    "    return re.match(pattern, amount_str) is not None\n",
    "\n",
    "def validate_invoice_details(details):\n",
    "    # Check for required fields\n",
    "    required_fields = ['Date', 'Invoice Number']\n",
    "    for field in required_fields:\n",
    "        if field not in details or not details[field]:\n",
    "            return False, f\"Missing or empty field: {field}\"\n",
    "    \n",
    "    # Validate date format\n",
    "    if not validate_date(details['Date']):\n",
    "        return False, \"Invalid date format\"\n",
    "\n",
    "    # Validate amounts (assuming at least one amount should be valid)\n",
    "    if 'Amounts' in details:\n",
    "        for amount in details['Amounts']:\n",
    "            if not validate_amount(amount):\n",
    "                return False, \"Invalid amount format\"\n",
    "\n",
    "    return True, \"Validation passed\"\n",
    "    \n",
    "def main(text):\n",
    "    # Extract details from the text\n",
    "    invoice_details = extract_invoice_details(text)\n",
    "\n",
    "    # Display the extracted details\n",
    "    print(\"Extracted Invoice Details:\")\n",
    "    for key, value in invoice_details.items():\n",
    "        if isinstance(value, list):  # Print items if it's a list\n",
    "            for idx, item in enumerate(value, start=1):\n",
    "                print(f\"Item {idx}: {item}\")\n",
    "        else:\n",
    "            print(f\"{key}: {value}\")\n",
    "\n",
    "    # Validate the extracted details\n",
    "    is_valid, message = validate_invoice_details(invoice_details)\n",
    "    print(message)\n",
    "\n",
    "\n",
    "main(invoice_text)"
   ]
  },
  {
   "cell_type": "code",
   "execution_count": null,
   "id": "e397894c-0d5b-4dbd-bb62-b50069cea407",
   "metadata": {},
   "outputs": [],
   "source": []
  }
 ],
 "metadata": {
  "kernelspec": {
   "display_name": "Python 3 (ipykernel)",
   "language": "python",
   "name": "python3"
  },
  "language_info": {
   "codemirror_mode": {
    "name": "ipython",
    "version": 3
   },
   "file_extension": ".py",
   "mimetype": "text/x-python",
   "name": "python",
   "nbconvert_exporter": "python",
   "pygments_lexer": "ipython3",
   "version": "3.12.4"
  }
 },
 "nbformat": 4,
 "nbformat_minor": 5
}
